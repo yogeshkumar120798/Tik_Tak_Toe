{
 "cells": [
  {
   "cell_type": "markdown",
   "id": "353aa830",
   "metadata": {},
   "source": [
    "1) Wtite a function that can print out a board. Set up your board as a list, where each index 1-9 corresponds with a number on a number pad, so you get a 3 by 3 board representation."
   ]
  },
  {
   "cell_type": "code",
   "execution_count": 1,
   "id": "f22bc305",
   "metadata": {},
   "outputs": [],
   "source": [
    "from IPython.display import clear_output\n",
    "\n",
    "def display_board(board):\n",
    "    clear_output()\n",
    "    \n",
    "    print(board[7]+'|'+board[8]+'|'+board[9])\n",
    "    print(board[4]+'|'+board[5]+'|'+board[6])\n",
    "    print(board[1]+'|'+board[2]+'|'+board[3])"
   ]
  },
  {
   "cell_type": "code",
   "execution_count": 2,
   "id": "03603940",
   "metadata": {},
   "outputs": [
    {
     "name": "stdout",
     "output_type": "stream",
     "text": [
      " | | \n",
      " | | \n",
      " | | \n"
     ]
    }
   ],
   "source": [
    "test_board = [' ']*10\n",
    "display_board(test_board)"
   ]
  },
  {
   "cell_type": "markdown",
   "id": "634f327c",
   "metadata": {},
   "source": [
    "2) Write a function that can take in a player input and assign their markers as 'X' or 'O'. think about using while loops to continouslly ask until you get a correct answer."
   ]
  },
  {
   "cell_type": "code",
   "execution_count": 3,
   "id": "5ffeebab",
   "metadata": {},
   "outputs": [],
   "source": [
    "def player_input():\n",
    "    \n",
    "    marker = ''\n",
    "    \n",
    "    while marker != 'X' and marker !='O':                         # while not (marker == 'X' or marker == 'O'):\n",
    "        marker = input('player 1, choose X or O: ').upper()\n",
    "        \n",
    "    player1 = marker\n",
    "    \n",
    "    if player1 == 'X':\n",
    "        player2 ='O'\n",
    "    else:\n",
    "        player2 = 'X'\n",
    "        \n",
    "    return (player1,player2)"
   ]
  },
  {
   "cell_type": "code",
   "execution_count": 4,
   "id": "ccbc8ab8",
   "metadata": {},
   "outputs": [
    {
     "name": "stdout",
     "output_type": "stream",
     "text": [
      "player 1, choose X or O: x\n"
     ]
    }
   ],
   "source": [
    "player1_marker , player2_marker = player_input()"
   ]
  },
  {
   "cell_type": "code",
   "execution_count": 5,
   "id": "c0503645",
   "metadata": {},
   "outputs": [
    {
     "data": {
      "text/plain": [
       "'O'"
      ]
     },
     "execution_count": 5,
     "metadata": {},
     "output_type": "execute_result"
    }
   ],
   "source": [
    "player2_marker"
   ]
  },
  {
   "cell_type": "markdown",
   "id": "bce150cd",
   "metadata": {},
   "source": [
    "3) Write a funtion tha takes in the board list object, a marker ('X' or 'O'), and a desired position (number 1-9) and assign it to the board."
   ]
  },
  {
   "cell_type": "code",
   "execution_count": 6,
   "id": "7e023ce3",
   "metadata": {},
   "outputs": [],
   "source": [
    "def place_marker(board, marker, position):\n",
    "    \n",
    "    board[position] = marker"
   ]
  },
  {
   "cell_type": "code",
   "execution_count": 7,
   "id": "2809ec22",
   "metadata": {},
   "outputs": [
    {
     "data": {
      "text/plain": [
       "[' ', ' ', ' ', ' ', ' ', ' ', ' ', ' ', ' ', ' ']"
      ]
     },
     "execution_count": 7,
     "metadata": {},
     "output_type": "execute_result"
    }
   ],
   "source": [
    "test_board"
   ]
  },
  {
   "cell_type": "code",
   "execution_count": 8,
   "id": "1194b92e",
   "metadata": {},
   "outputs": [
    {
     "name": "stdout",
     "output_type": "stream",
     "text": [
      " | | \n",
      " | | \n",
      " | | \n"
     ]
    }
   ],
   "source": [
    "#place_marker(test_board,'$',8)\n",
    "#place_marker(test_board,'*',3)\n",
    "display_board(test_board)"
   ]
  },
  {
   "cell_type": "markdown",
   "id": "0c4815c6",
   "metadata": {},
   "source": [
    "4) Write a funtion that takes in a board and a mark(X or O) and then checks to see if that mark has won."
   ]
  },
  {
   "cell_type": "code",
   "execution_count": 9,
   "id": "381d0b98",
   "metadata": {},
   "outputs": [],
   "source": [
    "def win_check(board, mark):\n",
    "    \n",
    "    return ((board[7] == mark and board[8] == mark and board[9] == mark) or\n",
    "           (board[4] == mark and board[5] == mark and board[6] == mark) or\n",
    "           (board[1] == mark and board[2] == mark and board[3] == mark) or\n",
    "           (board[7] == mark and board[4] == mark and board[1] == mark) or\n",
    "           (board[3] == mark and board[6] == mark and board[9] == mark) or\n",
    "           (board[2] == mark and board[5] == mark and board[8] == mark) or\n",
    "           (board[1] == mark and board[5] == mark and board[9] == mark) or\n",
    "           (board[7] == mark and board[5] == mark and board[3] == mark))"
   ]
  },
  {
   "cell_type": "code",
   "execution_count": 10,
   "id": "f7f9b8d8",
   "metadata": {},
   "outputs": [
    {
     "name": "stdout",
     "output_type": "stream",
     "text": [
      " | | \n",
      " | | \n",
      " | | \n"
     ]
    }
   ],
   "source": [
    "win_check(test_board, 'X')\n",
    "display_board(test_board)"
   ]
  },
  {
   "cell_type": "markdown",
   "id": "845b5624",
   "metadata": {},
   "source": [
    "5) write a funtion that uses the random module to randomly decide which player goes first. you may want to lookup random.randint() return a string of which player went first."
   ]
  },
  {
   "cell_type": "code",
   "execution_count": 11,
   "id": "ccce4cfb",
   "metadata": {},
   "outputs": [],
   "source": [
    "import random\n",
    "\n",
    "def choose_first():\n",
    "    \n",
    "    flip = random.randint(0,1)\n",
    "    \n",
    "    if flip == 0:\n",
    "        return 'player 1'\n",
    "    else:\n",
    "        return 'player 2'\n",
    "    "
   ]
  },
  {
   "cell_type": "markdown",
   "id": "547eca03",
   "metadata": {},
   "source": [
    "6) write a function that returns a boolean indicating whether a space on the board is freely avalilable."
   ]
  },
  {
   "cell_type": "code",
   "execution_count": 12,
   "id": "8dd543dc",
   "metadata": {},
   "outputs": [],
   "source": [
    "def space_check(board, position):\n",
    "    \n",
    "    return board[position] == ' '"
   ]
  },
  {
   "cell_type": "markdown",
   "id": "db14811e",
   "metadata": {},
   "source": [
    "7) write a funtion that checks if the board is full and returns a boolean value. True if full , false otherwise."
   ]
  },
  {
   "cell_type": "code",
   "execution_count": 13,
   "id": "70711bc3",
   "metadata": {},
   "outputs": [],
   "source": [
    "def full_board_check(board):\n",
    "    \n",
    "    for i in range(1,10):\n",
    "        if space_check(board,i):    # check if true then return false other wise return true\n",
    "            return False\n",
    "    # board is full if we return true\n",
    "        return True"
   ]
  },
  {
   "cell_type": "markdown",
   "id": "a487dcfa",
   "metadata": {},
   "source": [
    "8) write a funtion that asks for a player next position (as a number 1-9) and then uses the funtion from step 6 to check if its a free position. if it is then return the position for later use."
   ]
  },
  {
   "cell_type": "code",
   "execution_count": 14,
   "id": "3b4f959e",
   "metadata": {},
   "outputs": [],
   "source": [
    "def player_choice(board):\n",
    "    \n",
    "    position = 0\n",
    "    \n",
    "    while position not in [1,2,3,4,5,6,7,8,9] or not space_check(board, poition):\n",
    "        poition = int(input('choose a position: (1-9) '))\n",
    "        \n",
    "    return position"
   ]
  },
  {
   "cell_type": "markdown",
   "id": "4112c507",
   "metadata": {},
   "source": [
    "9) write a function that asks the player if they want to play again and returns a boolean true if they want to play again."
   ]
  },
  {
   "cell_type": "code",
   "execution_count": 15,
   "id": "a16db9c0",
   "metadata": {},
   "outputs": [],
   "source": [
    "def replay():\n",
    "    choice = input('play again? enter yes or no')\n",
    "    \n",
    "    return choice == 'yes'\n"
   ]
  },
  {
   "cell_type": "markdown",
   "id": "907c3f29",
   "metadata": {},
   "source": [
    "10) use while loops and the functions you've made to run the game!"
   ]
  },
  {
   "cell_type": "code",
   "execution_count": 28,
   "id": "fa37cb24",
   "metadata": {},
   "outputs": [
    {
     "name": "stdout",
     "output_type": "stream",
     "text": [
      "wlecome to TIC TAK TOE\n",
      "player 1, choose X or O: x\n",
      "player 1will go first\n",
      "ready to play? y or n ?n\n",
      "play again? enter yes or non\n"
     ]
    }
   ],
   "source": [
    "print('wlecome to TIC TAK TOE')\n",
    "\n",
    "while True:\n",
    "    \n",
    "    the_board = [' ']*10\n",
    "    player1_marker, player2_marker = player_input()\n",
    "    \n",
    "    turn = choose_first()\n",
    "    print(turn + 'will go first')\n",
    "    \n",
    "    play_game = input('ready to play? y or n ?')\n",
    "    \n",
    "    if play_game == 'y':\n",
    "        game_on = True\n",
    "    else:\n",
    "        game_on = False\n",
    "        \n",
    "    while game_on:\n",
    "        \n",
    "        if turn == 'player 1':\n",
    "            \n",
    "            display_board(the_board)\n",
    "            \n",
    "            position = player_choice(the_board)\n",
    "            \n",
    "            place_marker(the_board,player1_marker,position)\n",
    "            \n",
    "            if win_check(the_board,player1_marker):\n",
    "                display_board(the_board)\n",
    "                print('player 1 has won')\n",
    "                game_on = False\n",
    "            else:\n",
    "                if full_board_check(the_board):\n",
    "                    display_board(the_board)\n",
    "                    print('tie game')\n",
    "                    game_on = False\n",
    "                else:\n",
    "                    turn = 'player 2'\n",
    "        \n",
    "        else:\n",
    "            display_board(the_board)\n",
    "            \n",
    "            position = player_choice(the_board)\n",
    "            \n",
    "            place_marker(the_board,player2_marker,position)\n",
    "            \n",
    "            if win_check(the_board,player2_marker):\n",
    "                display_board(the_board)\n",
    "                print('player 2 has won')\n",
    "                game_on = False\n",
    "            else:\n",
    "                if full_board_check(the_board):\n",
    "                    display_board(the_board)\n",
    "                    print('tie game')\n",
    "                    game_on = False\n",
    "                else:\n",
    "                    turn = 'player 1'\n",
    "                 \n",
    "    if not replay():\n",
    "        break"
   ]
  }
 ],
 "metadata": {
  "kernelspec": {
   "display_name": "Python 3 (ipykernel)",
   "language": "python",
   "name": "python3"
  },
  "language_info": {
   "codemirror_mode": {
    "name": "ipython",
    "version": 3
   },
   "file_extension": ".py",
   "mimetype": "text/x-python",
   "name": "python",
   "nbconvert_exporter": "python",
   "pygments_lexer": "ipython3",
   "version": "3.9.13"
  }
 },
 "nbformat": 4,
 "nbformat_minor": 5
}
